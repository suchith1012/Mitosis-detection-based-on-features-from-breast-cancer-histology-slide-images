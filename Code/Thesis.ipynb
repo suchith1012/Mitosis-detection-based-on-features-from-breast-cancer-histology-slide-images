{
  "nbformat": 4,
  "nbformat_minor": 0,
  "metadata": {
    "colab": {
      "name": "Thesis.ipynb",
      "provenance": [],
      "authorship_tag": "ABX9TyPhOu8g7vh7jAdSKiBUE19T",
      "include_colab_link": true
    },
    "kernelspec": {
      "name": "python3",
      "display_name": "Python 3"
    },
    "language_info": {
      "name": "python"
    }
  },
  "cells": [
    {
      "cell_type": "markdown",
      "metadata": {
        "id": "view-in-github",
        "colab_type": "text"
      },
      "source": [
        "<a href=\"https://colab.research.google.com/github/suchith1012/Mitosis-detection-based-on-features-from-breast-cancer-histology-slide-images/blob/main/Code/Thesis.ipynb\" target=\"_parent\"><img src=\"https://colab.research.google.com/assets/colab-badge.svg\" alt=\"Open In Colab\"/></a>"
      ]
    },
    {
      "cell_type": "markdown",
      "metadata": {
        "id": "Q0AH50gMmqht"
      },
      "source": [
        "# Introduction\n",
        "\n",
        "In this article we are going to extract the features from the images and use optimizer technique and classifer to classify the Mitosis and Non Mitosis"
      ]
    },
    {
      "cell_type": "code",
      "metadata": {
        "id": "t6R07ET0tbzE"
      },
      "source": [
        "!unzip \"/content/MandNM.zip\" -d \"/content\""
      ],
      "execution_count": null,
      "outputs": []
    },
    {
      "cell_type": "code",
      "metadata": {
        "id": "5JLW3p6PuIT3"
      },
      "source": [
        "from sklearn.decomposition import PCA\n",
        "from sklearn.manifold import TSNE \n",
        "from sklearn.manifold import Isomap\n",
        "import numpy as np\n",
        "import random\n",
        "from tensorflow.keras.preprocessing.image import ImageDataGenerator\n",
        "import tensorflow as tf\n",
        "from tensorflow import keras\n",
        "from tensorflow.keras import layers\n",
        "\n",
        "import csv\n",
        "import cv2\n",
        "import sys\n",
        "import os\n",
        "from os import path\n",
        "import sys\n"
      ],
      "execution_count": null,
      "outputs": []
    },
    {
      "cell_type": "code",
      "metadata": {
        "id": "NY06GlMqXiC9"
      },
      "source": [
        "import matplotlib.pyplot as plt"
      ],
      "execution_count": null,
      "outputs": []
    },
    {
      "cell_type": "code",
      "metadata": {
        "id": "n7V6i8YSYoJ4"
      },
      "source": [
        "hog = cv2.HOGDescriptor()"
      ],
      "execution_count": null,
      "outputs": []
    },
    {
      "cell_type": "code",
      "metadata": {
        "id": "z2qCIiNsloHP"
      },
      "source": [
        "NUM_FEATURES = 10"
      ],
      "execution_count": null,
      "outputs": []
    },
    {
      "cell_type": "code",
      "metadata": {
        "id": "ebLvM-u_lqa-"
      },
      "source": [
        "category = []\n",
        "hogArray = []"
      ],
      "execution_count": null,
      "outputs": []
    },
    {
      "cell_type": "code",
      "metadata": {
        "colab": {
          "base_uri": "https://localhost:8080/"
        },
        "id": "IK9_Se4QltTW",
        "outputId": "c43d6cd2-c96f-472d-b0a9-edaf49cac18e"
      },
      "source": [
        "for folder in os.listdir(\"/content/MandNM/\"):\n",
        "\n",
        "    if(folder == \".DS_Store\"):\n",
        "        continue\n",
        "\n",
        "    # Loop through each category\n",
        "    for filename in os.listdir(path.join(\"/content/MandNM\", folder)):\n",
        "\n",
        "        # Select images which are png and jpg only\n",
        "        if (filename[-3:] == \"png\" or filename[-3:] == \"jpg\"):\n",
        "\n",
        "            # Get full image by joining\n",
        "            # all the path to the image\n",
        "            image = path.join(\"MandNM\", folder, filename)\n",
        "\n",
        "            # Use open cv to read the image\n",
        "            img = cv2.imread(image)\n",
        "\n",
        "            # Resize the image to (64, 128)\n",
        "            # Default for hog\n",
        "            resized = cv2.resize(img, (128, 128), interpolation=cv2.INTER_AREA)\n",
        "\n",
        "            # Compute the Hog Features\n",
        "            h = hog.compute(resized)\n",
        "\n",
        "            # Transpose the result from a vector to an array\n",
        "            hogImage = h.T\n",
        "\n",
        "            # append the category of the\n",
        "            # image to a category container\n",
        "            category.append(folder)\n",
        "\n",
        "            # append the extracted features of\n",
        "            # the image to a category container\n",
        "            hogArray.append(hogImage)\n",
        "\n",
        "\n",
        "# convert the extracted features\n",
        "# from array to vector\n",
        "hogArray_np = np.array(hogArray)\n",
        "\n",
        "# Reshaped the Features to the acurrate size\n",
        "reshaped_hog_Array = np.reshape(\n",
        "    hogArray_np, (hogArray_np.shape[0], hogArray_np.shape[2]))\n",
        "\n",
        "\n",
        "# setup PCA for dimensionality reduction\n",
        "pca = PCA(n_components=NUM_FEATURES)\n",
        "reduced_features = pca.fit_transform(reshaped_hog_Array)\n",
        "features = reduced_features.tolist()\n",
        "\n",
        "# Create a container to hold data to be saved into csv\n",
        "csvData = []\n",
        "for id, line in enumerate(features):\n",
        "    newImg = line\n",
        "\n",
        "    # Prepend the category of each image to\n",
        "    # the begining of the features\n",
        "    newImg.insert(0, category[id])\n",
        "    csvData.append(newImg)\n",
        "\n",
        "\n",
        "# Save the csv file\n",
        "with open('result_data.csv', 'w') as csvFile:\n",
        "    writer = csv.writer(csvFile)\n",
        "    writer.writerows(csvData)\n",
        "\n",
        "csvFile.close()\n",
        "\n",
        "print(\"Done Extracting Features\")"
      ],
      "execution_count": null,
      "outputs": [
        {
          "output_type": "stream",
          "name": "stdout",
          "text": [
            "Done Extracting Features\n"
          ]
        }
      ]
    },
    {
      "cell_type": "code",
      "metadata": {
        "id": "9ew5YJa56RoI"
      },
      "source": [
        "import pandas as pd\n",
        "\n",
        "feature=pd.read_csv(\"result_data.csv\")"
      ],
      "execution_count": null,
      "outputs": []
    },
    {
      "cell_type": "code",
      "metadata": {
        "colab": {
          "base_uri": "https://localhost:8080/",
          "height": 437
        },
        "id": "b8n_ldIg6oN0",
        "outputId": "5592dd2a-c31a-49d6-eb0a-8f93653885aa"
      },
      "source": [
        "feature"
      ],
      "execution_count": null,
      "outputs": [
        {
          "output_type": "execute_result",
          "data": {
            "text/html": [
              "<div>\n",
              "<style scoped>\n",
              "    .dataframe tbody tr th:only-of-type {\n",
              "        vertical-align: middle;\n",
              "    }\n",
              "\n",
              "    .dataframe tbody tr th {\n",
              "        vertical-align: top;\n",
              "    }\n",
              "\n",
              "    .dataframe thead th {\n",
              "        text-align: right;\n",
              "    }\n",
              "</style>\n",
              "<table border=\"1\" class=\"dataframe\">\n",
              "  <thead>\n",
              "    <tr style=\"text-align: right;\">\n",
              "      <th></th>\n",
              "      <th>mitosis</th>\n",
              "      <th>-1.3015165328979492</th>\n",
              "      <th>-0.1822415590286255</th>\n",
              "      <th>-1.21365225315094</th>\n",
              "      <th>4.009322166442871</th>\n",
              "      <th>-0.02638990990817547</th>\n",
              "      <th>-0.48942017555236816</th>\n",
              "      <th>-2.5916213989257812</th>\n",
              "      <th>4.012990474700928</th>\n",
              "      <th>-1.8747761249542236</th>\n",
              "      <th>-2.6282706260681152</th>\n",
              "    </tr>\n",
              "  </thead>\n",
              "  <tbody>\n",
              "    <tr>\n",
              "      <th>0</th>\n",
              "      <td>mitosis</td>\n",
              "      <td>-0.569143</td>\n",
              "      <td>0.034766</td>\n",
              "      <td>0.122854</td>\n",
              "      <td>-0.287749</td>\n",
              "      <td>-2.270724</td>\n",
              "      <td>-0.922068</td>\n",
              "      <td>1.772003</td>\n",
              "      <td>0.668594</td>\n",
              "      <td>1.233692</td>\n",
              "      <td>0.389743</td>\n",
              "    </tr>\n",
              "    <tr>\n",
              "      <th>1</th>\n",
              "      <td>mitosis</td>\n",
              "      <td>0.946490</td>\n",
              "      <td>-1.198443</td>\n",
              "      <td>-0.577495</td>\n",
              "      <td>1.525628</td>\n",
              "      <td>1.496591</td>\n",
              "      <td>3.080521</td>\n",
              "      <td>-0.059310</td>\n",
              "      <td>1.537906</td>\n",
              "      <td>-1.535114</td>\n",
              "      <td>1.842879</td>\n",
              "    </tr>\n",
              "    <tr>\n",
              "      <th>2</th>\n",
              "      <td>mitosis</td>\n",
              "      <td>-6.040306</td>\n",
              "      <td>2.090535</td>\n",
              "      <td>-0.909007</td>\n",
              "      <td>0.678338</td>\n",
              "      <td>-0.336804</td>\n",
              "      <td>-0.556844</td>\n",
              "      <td>1.908021</td>\n",
              "      <td>0.856912</td>\n",
              "      <td>0.104451</td>\n",
              "      <td>0.682649</td>\n",
              "    </tr>\n",
              "    <tr>\n",
              "      <th>3</th>\n",
              "      <td>mitosis</td>\n",
              "      <td>-0.791576</td>\n",
              "      <td>-1.386917</td>\n",
              "      <td>-2.723743</td>\n",
              "      <td>2.926581</td>\n",
              "      <td>-0.302552</td>\n",
              "      <td>0.574710</td>\n",
              "      <td>-3.865031</td>\n",
              "      <td>-0.279897</td>\n",
              "      <td>1.564733</td>\n",
              "      <td>-1.446723</td>\n",
              "    </tr>\n",
              "    <tr>\n",
              "      <th>4</th>\n",
              "      <td>mitosis</td>\n",
              "      <td>-3.109367</td>\n",
              "      <td>-1.749280</td>\n",
              "      <td>4.711393</td>\n",
              "      <td>-2.016758</td>\n",
              "      <td>-2.363453</td>\n",
              "      <td>1.674856</td>\n",
              "      <td>2.363458</td>\n",
              "      <td>-3.361222</td>\n",
              "      <td>-0.039654</td>\n",
              "      <td>0.501695</td>\n",
              "    </tr>\n",
              "    <tr>\n",
              "      <th>...</th>\n",
              "      <td>...</td>\n",
              "      <td>...</td>\n",
              "      <td>...</td>\n",
              "      <td>...</td>\n",
              "      <td>...</td>\n",
              "      <td>...</td>\n",
              "      <td>...</td>\n",
              "      <td>...</td>\n",
              "      <td>...</td>\n",
              "      <td>...</td>\n",
              "      <td>...</td>\n",
              "    </tr>\n",
              "    <tr>\n",
              "      <th>426</th>\n",
              "      <td>nonmitosis</td>\n",
              "      <td>0.679347</td>\n",
              "      <td>-0.551763</td>\n",
              "      <td>-3.074294</td>\n",
              "      <td>2.131323</td>\n",
              "      <td>1.460225</td>\n",
              "      <td>-0.666136</td>\n",
              "      <td>-0.433462</td>\n",
              "      <td>0.141490</td>\n",
              "      <td>-0.609229</td>\n",
              "      <td>2.466810</td>\n",
              "    </tr>\n",
              "    <tr>\n",
              "      <th>427</th>\n",
              "      <td>nonmitosis</td>\n",
              "      <td>4.036842</td>\n",
              "      <td>4.672763</td>\n",
              "      <td>-0.777621</td>\n",
              "      <td>2.402077</td>\n",
              "      <td>-2.559572</td>\n",
              "      <td>1.659784</td>\n",
              "      <td>-0.692066</td>\n",
              "      <td>0.799366</td>\n",
              "      <td>0.305372</td>\n",
              "      <td>0.808938</td>\n",
              "    </tr>\n",
              "    <tr>\n",
              "      <th>428</th>\n",
              "      <td>nonmitosis</td>\n",
              "      <td>1.142026</td>\n",
              "      <td>1.104793</td>\n",
              "      <td>1.818421</td>\n",
              "      <td>2.189724</td>\n",
              "      <td>1.062611</td>\n",
              "      <td>0.615616</td>\n",
              "      <td>0.324578</td>\n",
              "      <td>3.525944</td>\n",
              "      <td>-0.649637</td>\n",
              "      <td>-0.073860</td>\n",
              "    </tr>\n",
              "    <tr>\n",
              "      <th>429</th>\n",
              "      <td>nonmitosis</td>\n",
              "      <td>-3.736223</td>\n",
              "      <td>-2.368452</td>\n",
              "      <td>-0.813700</td>\n",
              "      <td>2.453708</td>\n",
              "      <td>2.363927</td>\n",
              "      <td>2.128406</td>\n",
              "      <td>1.079905</td>\n",
              "      <td>-1.531115</td>\n",
              "      <td>-0.202124</td>\n",
              "      <td>0.064448</td>\n",
              "    </tr>\n",
              "    <tr>\n",
              "      <th>430</th>\n",
              "      <td>nonmitosis</td>\n",
              "      <td>-5.226105</td>\n",
              "      <td>0.830224</td>\n",
              "      <td>-2.531302</td>\n",
              "      <td>-1.662114</td>\n",
              "      <td>0.309522</td>\n",
              "      <td>-0.152342</td>\n",
              "      <td>1.517450</td>\n",
              "      <td>-1.159314</td>\n",
              "      <td>-1.812375</td>\n",
              "      <td>0.973380</td>\n",
              "    </tr>\n",
              "  </tbody>\n",
              "</table>\n",
              "<p>431 rows × 11 columns</p>\n",
              "</div>"
            ],
            "text/plain": [
              "        mitosis  -1.3015165328979492  ...  -1.8747761249542236  -2.6282706260681152\n",
              "0       mitosis            -0.569143  ...             1.233692             0.389743\n",
              "1       mitosis             0.946490  ...            -1.535114             1.842879\n",
              "2       mitosis            -6.040306  ...             0.104451             0.682649\n",
              "3       mitosis            -0.791576  ...             1.564733            -1.446723\n",
              "4       mitosis            -3.109367  ...            -0.039654             0.501695\n",
              "..          ...                  ...  ...                  ...                  ...\n",
              "426  nonmitosis             0.679347  ...            -0.609229             2.466810\n",
              "427  nonmitosis             4.036842  ...             0.305372             0.808938\n",
              "428  nonmitosis             1.142026  ...            -0.649637            -0.073860\n",
              "429  nonmitosis            -3.736223  ...            -0.202124             0.064448\n",
              "430  nonmitosis            -5.226105  ...            -1.812375             0.973380\n",
              "\n",
              "[431 rows x 11 columns]"
            ]
          },
          "metadata": {},
          "execution_count": 9
        }
      ]
    }
  ]
}